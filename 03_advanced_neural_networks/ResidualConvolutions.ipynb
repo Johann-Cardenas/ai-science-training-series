{
 "cells": [
  {
   "cell_type": "markdown",
   "id": "bfba47c9",
   "metadata": {},
   "source": [
    "# Modern Neural Networks\n",
    "\n",
    "In this tutorial, we'll cover \"modern\" neural networks.  In this case that specifically means deep, residual, convolutional neural networks.  Notably, the field of machine learning is \"moving on\" a bit these days from convoltutional neural networks.  The latest models are what are called \"transformers\" - we won't cover them today or likely at all in this course, but they certainly claim to be the next Big Thing.\n",
    "\n",
    "## Today's tutorial Agenda\n",
    "\n",
    "We'll cover 3 things in the tutorial-focused portion of today's session:\n",
    "\n",
    "1) ImageNet Dataset, from a high view.  (More next week!)\n",
    "\n",
    "2) Recap of Convolutions, and the vanishing gradient problem\n",
    "\n",
    "3) Residual Layers and the ResNet development.\n",
    "\n",
    "## 1) ImageNet from a Mile High\n",
    "\n",
    "In the 2010s, there was one dataset to rule them all: [ImageNet](https://www.image-net.org/).  We will use this dataset for the rest of this series since it's the territory of \"Big Data.\"  The dataset is just about 200GB on disk, and contains 1.4M images to classify spread over 1000 classes.  Modern datasets from science are actually growing even bigger!  For today, we will use the data loading as a *black box*, paying no heed to how we're loading the data or what it's doing.  We will circle back next week, however, to get into this."
   ]
  },
  {
   "cell_type": "code",
   "execution_count": null,
   "id": "af72f2cb",
   "metadata": {},
   "outputs": [],
   "source": [
    "import tensorflow as tf\n",
    "import json"
   ]
  },
  {
   "cell_type": "code",
   "execution_count": null,
   "id": "5fb765c5",
   "metadata": {},
   "outputs": [],
   "source": [
    "# What's in this function?  Tune in next week ...\n",
    "from ilsvrc_dataset import get_datasets"
   ]
  },
  {
   "cell_type": "code",
   "execution_count": null,
   "id": "763d2320",
   "metadata": {},
   "outputs": [],
   "source": [
    "class FakeHvd:\n",
    "    \n",
    "    def size(self): return 1\n",
    "    \n",
    "    def rank(self): return 0\n",
    "\n",
    "\n",
    "with open(\"ilsvrc.json\", 'r') as f: \n",
    "    config = json.load(f)\n",
    "\n",
    "print(json.dumps(config, indent=4))\n",
    "    \n",
    "    \n",
    "config['hvd'] = FakeHvd()\n",
    "\n"
   ]
  },
  {
   "cell_type": "code",
   "execution_count": null,
   "id": "103c219b",
   "metadata": {},
   "outputs": [],
   "source": [
    "train_ds, val_ds = get_datasets(config)"
   ]
  },
  {
   "cell_type": "code",
   "execution_count": null,
   "id": "656b476f",
   "metadata": {},
   "outputs": [],
   "source": [
    "images, labels = next(iter(train_ds.take(1)))"
   ]
  },
  {
   "cell_type": "code",
   "execution_count": null,
   "id": "6652df33",
   "metadata": {},
   "outputs": [],
   "source": [
    "print(images.shape)\n",
    "print(labels.shape)"
   ]
  },
  {
   "cell_type": "code",
   "execution_count": null,
   "id": "79578ade",
   "metadata": {},
   "outputs": [],
   "source": [
    "first_image = images[0]"
   ]
  },
  {
   "cell_type": "code",
   "execution_count": null,
   "id": "7fbef2da",
   "metadata": {},
   "outputs": [],
   "source": [
    "import matplotlib.pyplot as plt\n",
    "%matplotlib inline"
   ]
  },
  {
   "cell_type": "code",
   "execution_count": null,
   "id": "540dc34b",
   "metadata": {},
   "outputs": [],
   "source": [
    "# Divide by 255 to put this in the range of 0-1 for floating point colors\n",
    "plt.imshow(first_image/255.) "
   ]
  },
  {
   "cell_type": "markdown",
   "id": "ca661ebb",
   "metadata": {},
   "source": [
    "## What is a convolution doing, again?\n",
    "\n",
    "Convolution kernels are operating on entire images in small patches.  \n",
    "\n",
    "![Convolution Kernel](https://1.cms.s81c.com/sites/default/files/2021-01-06/ICLH_Diagram_Batch_02_17A-ConvolutionalNeuralNetworks-WHITEBG.png)\n",
    "\n",
    "\n",
    "That's a **single** convolution.  Convolutional Layers are learning multiple filters:\n",
    "\n",
    "![Convolution Layer](https://miro.medium.com/max/1400/1*u2el-HrqRPVk7x0xlvs_CA.png)"
   ]
  },
  {
   "cell_type": "code",
   "execution_count": null,
   "id": "c202aa1d",
   "metadata": {},
   "outputs": [],
   "source": [
    "# Using 3 output filters here to simulate RGB.  \n",
    "# You can - and SHOULD - use more for bigger networks\n",
    "sample_conv_layer = tf.keras.layers.Conv2D(filters=3, kernel_size=1)"
   ]
  },
  {
   "cell_type": "code",
   "execution_count": null,
   "id": "700f2ee7",
   "metadata": {},
   "outputs": [],
   "source": [
    "# Apply this layer to all images:\n",
    "modified_output = sample_conv_layer(images)"
   ]
  },
  {
   "cell_type": "code",
   "execution_count": null,
   "id": "0127b7fd",
   "metadata": {},
   "outputs": [],
   "source": [
    "first_image = modified_output[0]\n",
    "# Divide by 255 to put this in the range of 0-1 for floating point colors\n",
    "plt.imshow(first_image/255.) "
   ]
  },
  {
   "cell_type": "markdown",
   "id": "cfb76c5f",
   "metadata": {},
   "source": [
    "This image is just as crisp as the original, but has had it's colors totally shifted.  That's expected: the convolution kernel size was just 1x1, or one pixel at a time.  So it's taking, for every pixel, the RGB value times a kernel (in this case, a vector):\n",
    "\n",
    "$$ output = R*k_1 + G*k_2 + B*k_3$$\n",
    "\n",
    "\n",
    "More generally, this becomes a sum over neighboring pixels (for kernel sizes > 1).\n",
    "\n",
    "We also produced 3 output \"filters\" - here, RGB again, but it can be more!  Each output filter for a convolution layer will create a $k x k$ kernel for every input filter, that are all summed together.  The total number of parameters is then:\n",
    "\n",
    "$$ n_{params} = N_{Input Filters} \\times N_{Output Filters} \\times k_{x} \\times k_{y} $$"
   ]
  },
  {
   "cell_type": "code",
   "execution_count": null,
   "id": "f43f9b65",
   "metadata": {},
   "outputs": [],
   "source": [
    "sample_conv_layer_7x7 = tf.keras.layers.Conv2D(filters=3, kernel_size=7)\n",
    "modified_output_7x7 = sample_conv_layer_7x7(images)"
   ]
  },
  {
   "cell_type": "code",
   "execution_count": null,
   "id": "a4f1f0d9",
   "metadata": {},
   "outputs": [],
   "source": [
    "first_image = modified_output_7x7[0]\n",
    "# Divide by 255 to put this in the range of 0-1 for floating point colors\n",
    "plt.imshow(first_image/255.) "
   ]
  },
  {
   "cell_type": "markdown",
   "id": "192c00a7",
   "metadata": {},
   "source": [
    "This time the output is much blurrier - because this kernel has a 7x7 pixel size instead of a 1x1 pixel size."
   ]
  },
  {
   "cell_type": "markdown",
   "id": "d46afa6d",
   "metadata": {},
   "source": [
    "### Strides, Padding, Output Size\n",
    "\n",
    "To apply a convolution, one algorithm takes the first output pixel to be the one where the filter just fits into the top left corner of the input image, and scans over (and then down) one pixel at a time.  There is nothing special about that though!  Kernels can skip pixels to reduce the output image size (sometimes called an downsampling convolution) and they can start with incomplete corners of the input images (padding with 0) to preserve the same output size.\n",
    "\n",
    "- **Padding** represents the operation of handling the corner and edge cases so the output image is the same size as the input image.  Often you will see \"valid\" (apply the kernel only in valid locations) or \"same\" (add padding to make sure the output is the same size).\n",
    "\n",
    "- **Stride** represents how many pixels are skipped between applications of the convolution.\n",
    "\n",
    "- **Bottleneck** Layers are special convolution layers that have kernel size = 1, stride = 1 that preserve the output size and only look at single pixels at at time - though they look at all filters on a pixel.  A bottleneck layer is mathematically the same as applying the same MLP to each individual pixel's filters."
   ]
  },
  {
   "cell_type": "markdown",
   "id": "4d60e091",
   "metadata": {},
   "source": [
    "## The case for ResNet: Vanishing Gradients\n",
    "\n",
    "One of the motivations for the network we'll develop in the second half is the so-called \"vanishing gradient problem\":  The gradient of each layer depends on the gradient of each layer after it (remember the gradients flow backwards through the network).  Deeper and deeper networks that stack convolutions end up with smaller and smaller gradients in early layers."
   ]
  },
  {
   "cell_type": "code",
   "execution_count": null,
   "id": "f531a32c",
   "metadata": {},
   "outputs": [],
   "source": [
    "class DenseLayer(tf.keras.Model):\n",
    "    \n",
    "    def __init__(self, n_filters):\n",
    "        tf.keras.Model.__init__(self)\n",
    "        \n",
    "        self.conv1 = tf.keras.layers.Conv2D(\n",
    "            filters     = n_filters,\n",
    "            kernel_size = (3,3),\n",
    "            padding     = \"same\"\n",
    "        )\n",
    "        \n",
    "    def __call__(self, inputs):\n",
    "        \n",
    "        x = inputs\n",
    "        \n",
    "        output1 = self.conv1(inputs)\n",
    "        \n",
    "        output1 = tf.keras.activations.sigmoid(output1)\n",
    "        \n",
    "        return output1\n",
    "    \n",
    "class ResidualLayer(tf.keras.Model):\n",
    "    \n",
    "    def __init__(self, n_filters):\n",
    "        tf.keras.Model.__init__(self)\n",
    "        \n",
    "        self.conv1 = tf.keras.layers.Conv2D(\n",
    "            filters     = n_filters,\n",
    "            kernel_size = (3,3),\n",
    "            padding     = \"same\"\n",
    "        )\n",
    "        \n",
    "        self.conv2 = tf.keras.layers.Conv2D(\n",
    "            filters     = n_filters,\n",
    "            kernel_size = (3,3),\n",
    "            padding     = \"same\"\n",
    "        )\n",
    "    \n",
    "    def __call__(self, inputs):\n",
    "        \n",
    "        x = inputs\n",
    "        \n",
    "        output1 = self.conv1(inputs)\n",
    "        \n",
    "        output1 = tf.keras.activations.sigmoid(output1)\n",
    "        \n",
    "        output2 = self.conv2(output1)\n",
    "\n",
    "        return tf.keras.activations.sigmoid(output2 + x)\n",
    "        "
   ]
  },
  {
   "cell_type": "code",
   "execution_count": null,
   "id": "1b386366",
   "metadata": {},
   "outputs": [],
   "source": [
    "regular_layers  = [ DenseLayer(3) for i in range(100)]\n",
    "residual_layers = [ ResidualLayer(3) for i in range(50)] # 2 convolutions per layer, so do half!"
   ]
  },
  {
   "cell_type": "markdown",
   "id": "7a362e9f",
   "metadata": {},
   "source": [
    "Apply these layers to the input data, and then compute a loss value (even it it's totally artificial!)"
   ]
  },
  {
   "cell_type": "code",
   "execution_count": null,
   "id": "055fd2dd",
   "metadata": {},
   "outputs": [],
   "source": [
    "with tf.GradientTape() as tape:\n",
    "    output = images\n",
    "    for layer in regular_layers:\n",
    "        output = layer(output)\n",
    "    regular_loss = tf.reduce_mean(output)"
   ]
  },
  {
   "cell_type": "markdown",
   "id": "2f965ec4",
   "metadata": {},
   "source": [
    "Compute the gradients per layer:"
   ]
  },
  {
   "cell_type": "code",
   "execution_count": null,
   "id": "b17c7376",
   "metadata": {},
   "outputs": [],
   "source": [
    "regular_params = [l.trainable_weights for l in regular_layers]\n",
    "gradients = tape.gradient(regular_loss, regular_params)"
   ]
  },
  {
   "cell_type": "markdown",
   "id": "cb2565a8",
   "metadata": {},
   "source": [
    "Lets do the same with the residual layers:"
   ]
  },
  {
   "cell_type": "code",
   "execution_count": null,
   "id": "cec6e90a",
   "metadata": {},
   "outputs": [],
   "source": [
    "with tf.GradientTape() as tape:\n",
    "    output = images\n",
    "    for layer in residual_layers:\n",
    "        output = layer(output)\n",
    "    residual_loss = tf.reduce_mean(output)"
   ]
  },
  {
   "cell_type": "code",
   "execution_count": null,
   "id": "f103ec8f",
   "metadata": {},
   "outputs": [],
   "source": [
    "residual_params = [l.trainable_weights for l in residual_layers]\n",
    "residual_gradients = tape.gradient(residual_loss, residual_params)"
   ]
  },
  {
   "cell_type": "code",
   "execution_count": null,
   "id": "3d865476",
   "metadata": {},
   "outputs": [],
   "source": [
    "# Compute the ratio of the gradient to the weights for each layer:\n",
    "regular_mean_ratio = []\n",
    "for layer, grad in zip(regular_params, gradients):\n",
    "    regular_mean_ratio.append(tf.abs(tf.reduce_max(grad[0]) / tf.reduce_max(layer[0])))\n",
    "    \n",
    "plt.plot(range(len(regular_mean_ratio)), regular_mean_ratio)\n",
    "plt.grid()\n",
    "plt.yscale(\"log\")"
   ]
  },
  {
   "cell_type": "code",
   "execution_count": null,
   "id": "e01acc91",
   "metadata": {},
   "outputs": [],
   "source": [
    "# Compute the ratio of the gradient to the weights for each layer:\n",
    "residual_mean_ratio = []\n",
    "for layer, grad in zip(residual_params, residual_gradients):\n",
    "\n",
    "    residual_mean_ratio.append(tf.abs(tf.reduce_max(grad[0]) / tf.reduce_max(layer[0])))\n",
    "    residual_mean_ratio.append(tf.abs(tf.reduce_max(grad[2]) / tf.reduce_max(layer[2])))\n",
    "\n",
    "plt.plot(range(len(residual_mean_ratio)), residual_mean_ratio)\n",
    "plt.yscale(\"log\")\n",
    "plt.grid()"
   ]
  },
  {
   "cell_type": "markdown",
   "id": "a8753bd0",
   "metadata": {},
   "source": [
    "The difference in the magnitude of the gradients is striking.  Yes, there are ways to keep the magnitude of the gradients more reasonable through normalization layers (and that helps in residual networks too!), but most cases that use residual connections show significant benefits compared to regular convolutional neural networks, especially as the networks get deeper."
   ]
  },
  {
   "cell_type": "code",
   "execution_count": null,
   "id": "eaeff86f",
   "metadata": {},
   "outputs": [],
   "source": []
  }
 ],
 "metadata": {
  "kernelspec": {
   "display_name": "Python 3 (ipykernel)",
   "language": "python",
   "name": "python3"
  },
  "language_info": {
   "codemirror_mode": {
    "name": "ipython",
    "version": 3
   },
   "file_extension": ".py",
   "mimetype": "text/x-python",
   "name": "python",
   "nbconvert_exporter": "python",
   "pygments_lexer": "ipython3",
   "version": "3.8.13"
  }
 },
 "nbformat": 4,
 "nbformat_minor": 5
}
